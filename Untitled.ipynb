{
 "cells": [
  {
   "cell_type": "code",
   "execution_count": 106,
   "id": "d02e0f7c",
   "metadata": {},
   "outputs": [],
   "source": [
    "import cv2\n",
    "faceCascade=cv2.CascadeClassifier(\"haarcascade_frontalface_default.xml\")"
   ]
  },
  {
   "cell_type": "code",
   "execution_count": 107,
   "id": "e7ef1f95",
   "metadata": {},
   "outputs": [],
   "source": [
    "image=cv2.imread(\"000.jpg\")"
   ]
  },
  {
   "cell_type": "code",
   "execution_count": 108,
   "id": "46910543",
   "metadata": {},
   "outputs": [],
   "source": [
    "img=cv2.resize(image,(500,500))"
   ]
  },
  {
   "cell_type": "code",
   "execution_count": 109,
   "id": "40b1b385",
   "metadata": {},
   "outputs": [],
   "source": [
    "imgGray=cv2.cvtColor(img,cv2.COLOR_BGR2GRAY)"
   ]
  },
  {
   "cell_type": "code",
   "execution_count": 110,
   "id": "2cd26471",
   "metadata": {},
   "outputs": [],
   "source": [
    "faces=faceCascade.detectMultiScale(imgGray, 1.1, 4)"
   ]
  },
  {
   "cell_type": "code",
   "execution_count": null,
   "id": "34da9ae8",
   "metadata": {},
   "outputs": [],
   "source": [
    "for (x,y,w,h) in faces:\n",
    "    cv2.rectangle(img,(x,y),(x+w,y+h),(200,0,0),4)\n",
    " \n",
    "cv2.imshow('result',img)\n",
    "cv2.waitKey(0)\n"
   ]
  },
  {
   "cell_type": "code",
   "execution_count": null,
   "id": "0ebdba4c",
   "metadata": {},
   "outputs": [],
   "source": []
  },
  {
   "cell_type": "code",
   "execution_count": null,
   "id": "ff6de660",
   "metadata": {},
   "outputs": [],
   "source": []
  }
 ],
 "metadata": {
  "kernelspec": {
   "display_name": "Python 3",
   "language": "python",
   "name": "python3"
  },
  "language_info": {
   "codemirror_mode": {
    "name": "ipython",
    "version": 3
   },
   "file_extension": ".py",
   "mimetype": "text/x-python",
   "name": "python",
   "nbconvert_exporter": "python",
   "pygments_lexer": "ipython3",
   "version": "3.8.8"
  }
 },
 "nbformat": 4,
 "nbformat_minor": 5
}
